{
 "cells": [
  {
   "cell_type": "code",
   "execution_count": 19,
   "id": "30b41604",
   "metadata": {},
   "outputs": [],
   "source": [
    "import torch\n",
    "import numpy as np\n",
    "import pandas as pd\n",
    "import tqdm"
   ]
  },
  {
   "cell_type": "code",
   "execution_count": 2,
   "id": "403d49b9",
   "metadata": {},
   "outputs": [],
   "source": [
    "df = pd.read_csv('../Data/replay_by_frame.csv')"
   ]
  },
  {
   "cell_type": "code",
   "execution_count": 3,
   "id": "93eb9b52",
   "metadata": {},
   "outputs": [],
   "source": [
    "#shouldn't be needed anymore\n",
    "df = df.drop('Unnamed: 0', axis=1)"
   ]
  },
  {
   "cell_type": "code",
   "execution_count": 4,
   "id": "e1a7c39b",
   "metadata": {},
   "outputs": [
    {
     "data": {
      "text/plain": [
       "Index(['Game_ID', 'CHAR', 'Port', 'Frame', 'Pre_frame', 'Post_frame',\n",
       "       'S_airborne', 'S_damage', 'S_direction', 'S_hit_stun', 'S_position_x',\n",
       "       'S_position_y', 'S_shield', 'S_state', 'S_state_age', 'S_stocks',\n",
       "       'B_damage', 'B_direction', 'B_joystick_x', 'B_joystick_y',\n",
       "       'B_position_x', 'B_position_y', 'B_cstick_x', 'B_cstick_y', 'B_state',\n",
       "       'B_raw_analog', 'B_buttons_physical', 'B_triggers_physical_l',\n",
       "       'B_triggers_physical_r', 'B_triggers_logical'],\n",
       "      dtype='object')"
      ]
     },
     "execution_count": 4,
     "metadata": {},
     "output_type": "execute_result"
    }
   ],
   "source": [
    "df.columns"
   ]
  },
  {
   "cell_type": "code",
   "execution_count": 14,
   "id": "576d4d43",
   "metadata": {},
   "outputs": [],
   "source": [
    "state_cols = ['CHAR','S_airborne', 'S_damage', 'S_direction', 'S_hit_stun', 'S_position_x',\n",
    "       'S_position_y', 'S_shield', 'S_state', 'S_state_age', 'S_stocks']"
   ]
  },
  {
   "cell_type": "code",
   "execution_count": 13,
   "id": "c7977928",
   "metadata": {},
   "outputs": [],
   "source": [
    "button_cols = ['Port','B_damage', 'B_direction', 'B_joystick_x', 'B_joystick_y',\n",
    "       'B_position_x', 'B_position_y', 'B_cstick_x', 'B_cstick_y', 'B_state']"
   ]
  },
  {
   "cell_type": "code",
   "execution_count": 17,
   "id": "aa167908",
   "metadata": {},
   "outputs": [],
   "source": [
    "def format_cols(input_cols, output_cols):\n",
    "    cols = []\n",
    "    for i in range(len(input_cols)):\n",
    "        cols.append(input_cols[i] + '_P1')\n",
    "        cols.append(input_cols[i] + '_P2')\n",
    "    \n",
    "    return ['GAME_ID', 'Frame'] + cols + output_cols"
   ]
  },
  {
   "cell_type": "code",
   "execution_count": null,
   "id": "e076ca79",
   "metadata": {},
   "outputs": [],
   "source": [
    "#create labels\n",
    "def format_labels(df, input_cols, output_cols, offset = 5):\n",
    "    #use dict cuz to dataframe is fastest this way\n",
    "    data = {}\n",
    "    k = 0\n",
    "    game_ids = df.Game_ID.unique()\n",
    "    for game in game_ids:\n",
    "        df_game = df[df.Game_ID == game]\n",
    "        ports = df_game.Port.unique()\n",
    "        p1 = ports[0]\n",
    "        p2 = ports[1]\n",
    "        for frame in tqdm(df_game.Frame.values):\n",
    "            #get states of both players, designate p1 and p2\n",
    "            try:\n",
    "                #get current frame\n",
    "                df_frame = df_game[df_game.Frame == frame]\n",
    "                #get frame to predict\n",
    "                df_offset = df_game[df_game.Frame == (frame + offset)]\n",
    "                #get data by player for both\n",
    "                df_f_p1 = df_frame[df_frame.Port == p1]\n",
    "                df_f_p2 = df_frame[df_frame.Port == p2]\n",
    "                df_o_p1 = df_offset[df_frame.Port == p1]\n",
    "                df_o_p2 = df_offset[df_frame.Port == p2]\n",
    "                #create rows\n",
    "                row_1 = df_frame['GAME_ID', 'Frame'].iloc[0].values + df_f_p1[input_cols].values + df_f_p2[input_cols].values + df_o_p1[output_cols].values\n",
    "                row_2 = df_frame['GAME_ID', 'Frame'].iloc[0].values + df_f_p1[input_cols].values + df_f_p2[input_cols].values + df_o_p2[output_cols].values\n",
    "                #output columns for each player with player to predict\n",
    "                data[k] = row_1\n",
    "                k += 1\n",
    "                data[k] = row_2\n",
    "                k += 1\n",
    "            except:\n",
    "                #label not in dataset\n",
    "                pass\n",
    "    dataset = pd.DataFrame(data, cols = format_cols(input_cols, output_cols))\n",
    "    return dataset"
   ]
  },
  {
   "cell_type": "code",
   "execution_count": null,
   "id": "39678d02",
   "metadata": {},
   "outputs": [
    {
     "name": "stderr",
     "output_type": "stream",
     "text": [
      "C:\\Users\\steph\\AppData\\Local\\Temp/ipykernel_16696/3946670779.py:21: UserWarning: Boolean Series key will be reindexed to match DataFrame index.\n",
      "  df_o_p1 = df_offset[df_frame.Port == p1]\n",
      "C:\\Users\\steph\\AppData\\Local\\Temp/ipykernel_16696/3946670779.py:22: UserWarning: Boolean Series key will be reindexed to match DataFrame index.\n",
      "  df_o_p2 = df_offset[df_frame.Port == p2]\n"
     ]
    }
   ],
   "source": [
    "format_labels(df, state_cols, button_cols, 5)"
   ]
  }
 ],
 "metadata": {
  "kernelspec": {
   "display_name": "Python 3 (ipykernel)",
   "language": "python",
   "name": "python3"
  },
  "language_info": {
   "codemirror_mode": {
    "name": "ipython",
    "version": 3
   },
   "file_extension": ".py",
   "mimetype": "text/x-python",
   "name": "python",
   "nbconvert_exporter": "python",
   "pygments_lexer": "ipython3",
   "version": "3.9.7"
  }
 },
 "nbformat": 4,
 "nbformat_minor": 5
}
