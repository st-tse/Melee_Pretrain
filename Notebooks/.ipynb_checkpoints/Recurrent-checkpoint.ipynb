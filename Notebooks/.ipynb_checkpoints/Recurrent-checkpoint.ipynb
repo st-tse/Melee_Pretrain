{
 "cells": [
  {
   "cell_type": "code",
   "execution_count": 1,
   "id": "e669048c",
   "metadata": {},
   "outputs": [],
   "source": [
    "import torch\n",
    "import torch.nn as nn\n",
    "import torch.nn.functional as F\n",
    "import torch.nn as nn\n",
    "from torch.utils.data import DataLoader, Dataset\n",
    "from sklearn.model_selection import train_test_split\n",
    "from sklearn.preprocessing import StandardScaler, OneHotEncoder, LabelEncoder\n",
    "from sklearn.feature_extraction.text import CountVectorizer\n",
    "import numpy as np\n",
    "import pandas as pd\n",
    "from tqdm import tqdm"
   ]
  },
  {
   "cell_type": "code",
   "execution_count": 2,
   "id": "5a08b8e9",
   "metadata": {},
   "outputs": [],
   "source": [
    "def non_shuffling_train_test_split(X, y, test_size=0.2):\n",
    "    i = int((1 - test_size) * X.shape[0]) + 1\n",
    "    X_train, X_test = np.split(X, [i])\n",
    "    y_train, y_test = np.split(y, [i])\n",
    "    return X_train, X_test, y_train, y_test"
   ]
  },
  {
   "cell_type": "code",
   "execution_count": 3,
   "id": "96c8b4e1",
   "metadata": {},
   "outputs": [],
   "source": [
    "def compress_rows(df_seq):\n",
    "    data = {}\n",
    "    for game in df_seq.index.unique():\n",
    "        data[game] = []\n",
    "    for game in tqdm(df_seq.index.unique()):\n",
    "        data[game].append(df_seq[df_seq.columns].loc[game].to_numpy())\n",
    "    return data"
   ]
  },
  {
   "cell_type": "code",
   "execution_count": 23,
   "id": "533f392e",
   "metadata": {},
   "outputs": [],
   "source": [
    "def split_data(df, test_size=0.2):\n",
    "    games = list(df['Game_ID'].unique())\n",
    "    count = len(games)\n",
    "    i = int((1 - test_size) * count)\n",
    "    train_ids, test_ids = games[:i], games[i:]\n",
    "    train = df[df['Game_ID'].isin(train_ids)]\n",
    "    test = df[df['Game_ID'].isin(test_ids)]\n",
    "    train.drop('Game_ID', axis = 1, inplace=True)\n",
    "    test.drop('Game_ID', axis = 1, inplace=True)\n",
    "    return train, test"
   ]
  },
  {
   "cell_type": "code",
   "execution_count": 24,
   "id": "66ca7f82",
   "metadata": {},
   "outputs": [
    {
     "data": {
      "text/plain": [
       "(                         Game_ID  CHAR_P1  CHAR_P2  Frame  S_airborne_P1  \\\n",
       " 0       1003_Fox_vs_Fox_(BF).slp        0        0      0            1.0   \n",
       " 1       1003_Fox_vs_Fox_(BF).slp        0        0      1            1.0   \n",
       " 2       1003_Fox_vs_Fox_(BF).slp        0        0      2            1.0   \n",
       " 3       1003_Fox_vs_Fox_(BF).slp        0        0      3            1.0   \n",
       " 4       1003_Fox_vs_Fox_(BF).slp        0        0      4            1.0   \n",
       " ...                          ...      ...      ...    ...            ...   \n",
       " 182322  1016_Fox_vs_Fox_(FD).slp        0        0  11233            1.0   \n",
       " 182323  1016_Fox_vs_Fox_(FD).slp        0        0  11234            1.0   \n",
       " 182324  1016_Fox_vs_Fox_(FD).slp        0        0  11235            1.0   \n",
       " 182325  1016_Fox_vs_Fox_(FD).slp        0        0  11236            1.0   \n",
       " 182326  1016_Fox_vs_Fox_(FD).slp        0        0  11237            1.0   \n",
       " \n",
       "         S_damage_P1  S_direction_P1  S_hit_stun_P1  S_position_x_P1  \\\n",
       " 0               0.0               1   5.605194e-45       -38.799999   \n",
       " 1               0.0               1   4.203895e-45       -38.799999   \n",
       " 2               0.0               1   2.802597e-45       -38.799999   \n",
       " 3               0.0               1   1.401298e-45       -38.799999   \n",
       " 4               0.0               1   0.000000e+00       -38.799999   \n",
       " ...             ...             ...            ...              ...   \n",
       " 182322          6.0               1   2.802597e-44       -87.598953   \n",
       " 182323          6.0               1   2.802597e-44       -87.598953   \n",
       " 182324          6.0               1   2.802597e-44       -87.598953   \n",
       " 182325          6.0               1   2.802597e-44       -87.598953   \n",
       " 182326          6.0               1   2.802597e-44       -87.598953   \n",
       " \n",
       "         S_position_y_P1  ...  B_position_x_P1  B_position_y_P1  B_cstick_x_P1  \\\n",
       " 0             35.200001  ...       -38.799999        35.244923            0.0   \n",
       " 1             35.200001  ...       -38.799999        35.289841            0.0   \n",
       " 2             35.200001  ...       -38.799999        35.334763            0.0   \n",
       " 3             35.200001  ...       -38.799999        35.379681            0.0   \n",
       " 4             35.200001  ...       -38.799999        35.424603            0.0   \n",
       " ...                 ...  ...              ...              ...            ...   \n",
       " 182322        21.990005  ...      -236.933960        83.640526            0.0   \n",
       " 182323        18.590006  ...      -237.139481        83.993980            0.0   \n",
       " 182324        15.190006  ...      -237.321075        84.285728            0.0   \n",
       " 182325        11.790007  ...      -237.478745        84.515778            0.0   \n",
       " 182326         8.390007  ...      -237.612473        84.767456            0.0   \n",
       " \n",
       "         B_cstick_y_P1  B_state_P1  B_raw_analog_P1  B_buttons_physical_P1  \\\n",
       " 0                 0.0         323              176                 262144   \n",
       " 1                 0.0         323               80                 131072   \n",
       " 2                 0.0         323               80                 131072   \n",
       " 3                 0.0         323               80                 131072   \n",
       " 4                 0.0         323               80                 131072   \n",
       " ...               ...         ...              ...                    ...   \n",
       " 182322            0.0         350              157                 262144   \n",
       " 182323            0.0         350              165                 262144   \n",
       " 182324            0.0         350              217                 262144   \n",
       " 182325            0.0         351              248                      0   \n",
       " 182326            0.0         351              255                      0   \n",
       " \n",
       "         B_triggers_physical_l_P1  B_triggers_physical_r_P1  \\\n",
       " 0                            0.0                       0.0   \n",
       " 1                            0.0                       0.0   \n",
       " 2                            0.0                       0.0   \n",
       " 3                            0.0                       0.0   \n",
       " 4                            0.0                       0.0   \n",
       " ...                          ...                       ...   \n",
       " 182322                       0.0                       0.0   \n",
       " 182323                       0.0                       0.0   \n",
       " 182324                       0.0                       0.0   \n",
       " 182325                       0.0                       0.0   \n",
       " 182326                       0.0                       0.0   \n",
       " \n",
       "         B_triggers_logical_P1  \n",
       " 0                         0.0  \n",
       " 1                         0.0  \n",
       " 2                         0.0  \n",
       " 3                         0.0  \n",
       " 4                         0.0  \n",
       " ...                       ...  \n",
       " 182322                    0.0  \n",
       " 182323                    0.0  \n",
       " 182324                    0.0  \n",
       " 182325                    0.0  \n",
       " 182326                    0.0  \n",
       " \n",
       " [154006 rows x 38 columns],\n",
       "                            Game_ID  CHAR_P1  CHAR_P2  Frame  S_airborne_P1  \\\n",
       " 77003   1017_Fox_vs_Marth_(YS).slp        0        1      0            1.0   \n",
       " 77004   1017_Fox_vs_Marth_(YS).slp        0        1      1            1.0   \n",
       " 77005   1017_Fox_vs_Marth_(YS).slp        0        1      2            1.0   \n",
       " 77006   1017_Fox_vs_Marth_(YS).slp        0        1      3            1.0   \n",
       " 77007   1017_Fox_vs_Marth_(YS).slp        0        1      4            1.0   \n",
       " ...                            ...      ...      ...    ...            ...   \n",
       " 210643  1022_Fox_vs_Marth_(PS).slp        0        1  14231            0.0   \n",
       " 210644  1022_Fox_vs_Marth_(PS).slp        0        1  14232            0.0   \n",
       " 210645  1022_Fox_vs_Marth_(PS).slp        0        1  14233            0.0   \n",
       " 210646  1022_Fox_vs_Marth_(PS).slp        0        1  14234            0.0   \n",
       " 210647  1022_Fox_vs_Marth_(PS).slp        0        1  14235            0.0   \n",
       " \n",
       "         S_damage_P1  S_direction_P1  S_hit_stun_P1  S_position_x_P1  \\\n",
       " 77003      0.000000               1   5.605194e-45       -42.000000   \n",
       " 77004      0.000000               1   4.203895e-45       -42.000000   \n",
       " 77005      0.000000               1   2.802597e-45       -42.000000   \n",
       " 77006      0.000000               1   1.401298e-45       -42.000000   \n",
       " 77007      0.000000               1   0.000000e+00       -42.000000   \n",
       " ...             ...             ...            ...              ...   \n",
       " 210643    40.440002               1   0.000000e+00         6.363263   \n",
       " 210644    40.440002               1   2.054000e+00         7.661813   \n",
       " 210645    40.440002               1   2.054000e+00         8.986860   \n",
       " 210646    40.440002               1   2.028000e+00        10.334123   \n",
       " 210647    40.440002               1   2.028000e+00        11.701500   \n",
       " \n",
       "         S_position_y_P1  ...  B_position_x_P1  B_position_y_P1  B_cstick_x_P1  \\\n",
       " 77003           26.6000  ...       -42.000000        26.644920            0.0   \n",
       " 77004           26.6000  ...       -42.000000        26.689840            0.0   \n",
       " 77005           26.6000  ...       -42.000000        26.734762            0.0   \n",
       " 77006           26.6000  ...       -42.000000        26.779682            0.0   \n",
       " 77007           26.6000  ...       -42.000000        26.824602            0.0   \n",
       " ...                 ...  ...              ...              ...            ...   \n",
       " 210643           0.0001  ...        56.556297       169.537476            0.0   \n",
       " 210644           0.0001  ...        56.556297       168.703827            0.0   \n",
       " 210645           0.0001  ...        56.556297       167.870178            0.0   \n",
       " 210646           0.0001  ...        56.556297       167.036530            0.0   \n",
       " 210647           0.0001  ...        56.556297       166.202881            0.0   \n",
       " \n",
       "         B_cstick_y_P1  B_state_P1  B_raw_analog_P1  B_buttons_physical_P1  \\\n",
       " 77003             0.0         323              255                      0   \n",
       " 77004             0.0         323              255                      0   \n",
       " 77005             0.0         323              255                      0   \n",
       " 77006             0.0         323              255                      0   \n",
       " 77007             0.0         323              255                      0   \n",
       " ...               ...         ...              ...                    ...   \n",
       " 210643            0.0           4                0                      0   \n",
       " 210644            0.0           4                0                      0   \n",
       " 210645            0.0           4                0                      0   \n",
       " 210646            0.0           4                0                      0   \n",
       " 210647            0.0           4                0                      0   \n",
       " \n",
       "         B_triggers_physical_l_P1  B_triggers_physical_r_P1  \\\n",
       " 77003                        0.0                  0.000000   \n",
       " 77004                        0.0                  0.000000   \n",
       " 77005                        0.0                  0.000000   \n",
       " 77006                        0.0                  0.000000   \n",
       " 77007                        0.0                  0.000000   \n",
       " ...                          ...                       ...   \n",
       " 210643                       0.0                  0.028571   \n",
       " 210644                       0.0                  0.028571   \n",
       " 210645                       0.0                  0.028571   \n",
       " 210646                       0.0                  0.028571   \n",
       " 210647                       0.0                  0.000000   \n",
       " \n",
       "         B_triggers_logical_P1  \n",
       " 77003                     0.0  \n",
       " 77004                     0.0  \n",
       " 77005                     0.0  \n",
       " 77006                     0.0  \n",
       " 77007                     0.0  \n",
       " ...                       ...  \n",
       " 210643                    0.0  \n",
       " 210644                    0.0  \n",
       " 210645                    0.0  \n",
       " 210646                    0.0  \n",
       " 210647                    0.0  \n",
       " \n",
       " [56642 rows x 38 columns])"
      ]
     },
     "execution_count": 24,
     "metadata": {},
     "output_type": "execute_result"
    }
   ],
   "source": [
    "split_data(df)"
   ]
  },
  {
   "cell_type": "code",
   "execution_count": 4,
   "id": "449cd64d",
   "metadata": {},
   "outputs": [],
   "source": [
    "df = pd.read_csv(\"../Data/single_dataset.csv\", low_memory=False)\n",
    "df.dropna(axis=0, how='any', inplace=True)\n",
    "\n",
    "#enc characters\n",
    "enc_p1 = LabelEncoder()\n",
    "enc_p2 = LabelEncoder()\n",
    "\n",
    "enc_p1.fit(df['CHAR_P1'])\n",
    "enc_p2.fit(df['CHAR_P2'])\n",
    "df['CHAR_P1'] = enc_p1.transform(df['CHAR_P1'])\n",
    "df['CHAR_P2'] = enc_p2.transform(df['CHAR_P2'])\n",
    "\n",
    "X_cols = ['CHAR_P1', 'CHAR_P2', 'S_airborne_P1',\n",
    "   'S_damage_P1', 'S_direction_P1', 'S_hit_stun_P1', 'S_position_x_P1',\n",
    "   'S_position_y_P1', 'S_shield_P1', 'S_state_P1', 'S_state_age_P1',\n",
    "   'S_stocks_P1', 'S_airborne_P2', 'S_damage_P2', 'S_direction_P2',\n",
    "   'S_hit_stun_P2', 'S_position_x_P2', 'S_position_y_P2', 'S_shield_P2',\n",
    "   'S_state_P2', 'S_state_age_P2', 'S_stocks_P2']\n",
    "\n",
    "y_cols = ['B_damage_P1',\n",
    "   'B_direction_P1', 'B_joystick_x_P1', 'B_joystick_y_P1',\n",
    "   'B_position_x_P1', 'B_position_y_P1', 'B_cstick_x_P1', 'B_cstick_y_P1',\n",
    "   'B_state_P1', 'B_raw_analog_P1', 'B_buttons_physical_P1',\n",
    "   'B_triggers_physical_l_P1', 'B_triggers_physical_r_P1',\n",
    "   'B_triggers_logical_P1']\n",
    "\n",
    "df['S_airborne_P1'] = df['S_airborne_P1'].astype(bool).astype(float)\n",
    "df['S_airborne_P2'] = df['S_airborne_P2'].astype(bool).astype(float)\n",
    "\n",
    "df_seq = df.set_index(df['Game_ID'])\n",
    "df_seq.drop('Game_ID', axis = 1, inplace=True)\n",
    "\n",
    "X = df_seq[X_cols]\n",
    "y = df_seq[y_cols]"
   ]
  },
  {
   "cell_type": "code",
   "execution_count": 117,
   "id": "6a7ec8a4",
   "metadata": {},
   "outputs": [],
   "source": [
    "X_train, X_test, y_train, y_test = non_shuffling_train_test_split(X, y)"
   ]
  },
  {
   "cell_type": "code",
   "execution_count": 114,
   "id": "0c8e4ef5",
   "metadata": {},
   "outputs": [],
   "source": [
    "X_scaler = StandardScaler().fit(X_train)\n",
    "y_scaler = StandardScaler().fit(y_train)\n",
    "\n",
    "X_train = X_scaler.transform(X_train)\n",
    "X_test = X_scaler.transform(X_test)\n",
    "\n",
    "\n",
    "y_train = y_scaler.transform(y_train)\n",
    "y_test = y_scaler.transform(y_test)"
   ]
  },
  {
   "cell_type": "code",
   "execution_count": 119,
   "id": "600ce1e7",
   "metadata": {},
   "outputs": [
    {
     "name": "stderr",
     "output_type": "stream",
     "text": [
      "100%|██████████| 9/9 [00:00<00:00, 68.61it/s]\n",
      "100%|██████████| 4/4 [00:00<00:00, 249.95it/s]\n",
      "100%|██████████| 9/9 [00:00<00:00, 93.73it/s]\n",
      "100%|██████████| 4/4 [00:00<00:00, 399.91it/s]\n"
     ]
    }
   ],
   "source": [
    "datasets = [X_train, X_test, y_train, y_test]\n",
    "\n",
    "datasets_seq = []\n",
    "\n",
    "for d in datasets:\n",
    "    datasets_seq.append(compress_rows(d))"
   ]
  },
  {
   "cell_type": "code",
   "execution_count": 121,
   "id": "589425e0",
   "metadata": {},
   "outputs": [],
   "source": [
    "class RNN(nn.Module):\n",
    "    def __init__(self, input_size, hidden_size, output_size):\n",
    "        super(RNN, self).__init__()\n",
    "        self.hidden_size = hidden_size\n",
    "        \n",
    "        self.i2h = nn.Linear(input_size + hidden_size, hidden_size)\n",
    "        self.i2o = nn.Linear(input_size + hidden_size, output_size)\n",
    "\n",
    "    def forward(self, input, hidden):\n",
    "        combined = torch.cat((input, hidden), 1)\n",
    "        hidden = self.i2h(combined)\n",
    "        output = self.i2o(combined)\n",
    "        return output, hidden\n",
    "\n",
    "    def initHidden(self):\n",
    "        return torch.zeros(1, self.hidden_size)"
   ]
  },
  {
   "cell_type": "code",
   "execution_count": 162,
   "id": "52beb0c3",
   "metadata": {},
   "outputs": [
    {
     "data": {
      "text/plain": [
       "torch.Size([1, 128])"
      ]
     },
     "execution_count": 162,
     "metadata": {},
     "output_type": "execute_result"
    }
   ],
   "source": [
    "model.initHidden().shape"
   ]
  },
  {
   "cell_type": "code",
   "execution_count": null,
   "id": "c83be908",
   "metadata": {},
   "outputs": [],
   "source": []
  },
  {
   "cell_type": "code",
   "execution_count": 122,
   "id": "f87fbcf8",
   "metadata": {},
   "outputs": [],
   "source": [
    "input_size = X_train.shape[1]\n",
    "output_size = y_train.shape[1]\n",
    "hidden_size = 128\n",
    "\n",
    "epochs = 10\n",
    "\n",
    "model = RNN(input_size, n_hidden, output_size)\n",
    "\n",
    "learning_rate = 0.005\n",
    "\n",
    "optimizer = torch.optim.Adam(model.parameters(), lr=learning_rate)  \n",
    "criterion = nn.MSELoss()"
   ]
  },
  {
   "cell_type": "code",
   "execution_count": 186,
   "id": "71662889",
   "metadata": {},
   "outputs": [],
   "source": [
    "def t(a):\n",
    "    return torch.tensor(a,dtype=torch.float32)\n",
    "\n",
    "def train(x_train, y_train, replay):\n",
    "    hidden = model.initHidden()\n",
    "\n",
    "    model.zero_grad()\n",
    "    \n",
    "    replay_in = x_train[replay][0]\n",
    "    replay_out = y_train[replay][0]\n",
    "    predicted = [] \n",
    "    actual = []\n",
    "    \n",
    "    for i in tqdm(range(replay_in.shape[0])):\n",
    "        \n",
    "        output, hidden = model(t([replay_in[i]]), hidden)\n",
    "\n",
    "        \n",
    "        #loss = criterion(output, t([replay_out[i]]))\n",
    "        \n",
    "    loss.backward()\n",
    "\n",
    "    optimizer.step()\n",
    "\n",
    "    # Add parameters' gradients to their values, multiplied by learning rate\n",
    "    for p in model.parameters():\n",
    "        p.data.add_(p.grad.data, alpha=-learning_rate)\n",
    "\n",
    "    return loss.item()"
   ]
  },
  {
   "cell_type": "code",
   "execution_count": 173,
   "id": "64fe1249",
   "metadata": {},
   "outputs": [
    {
     "data": {
      "text/plain": [
       "<torch.autograd.anomaly_mode.set_detect_anomaly at 0x1ce69cdba00>"
      ]
     },
     "execution_count": 173,
     "metadata": {},
     "output_type": "execute_result"
    }
   ],
   "source": [
    " torch.autograd.set_detect_anomaly(True)"
   ]
  },
  {
   "cell_type": "code",
   "execution_count": 187,
   "id": "929adf98",
   "metadata": {},
   "outputs": [
    {
     "name": "stderr",
     "output_type": "stream",
     "text": [
      "  5%|▌         | 1067/20858 [00:02<00:55, 357.45it/s]\n"
     ]
    },
    {
     "ename": "KeyboardInterrupt",
     "evalue": "",
     "output_type": "error",
     "traceback": [
      "\u001b[1;31m---------------------------------------------------------------------------\u001b[0m",
      "\u001b[1;31mKeyboardInterrupt\u001b[0m                         Traceback (most recent call last)",
      "\u001b[1;32m~\\AppData\\Local\\Temp/ipykernel_2316/1344960955.py\u001b[0m in \u001b[0;36m<module>\u001b[1;34m\u001b[0m\n\u001b[0;32m      4\u001b[0m \u001b[1;32mfor\u001b[0m \u001b[0mepoch\u001b[0m \u001b[1;32min\u001b[0m \u001b[0mrange\u001b[0m\u001b[1;33m(\u001b[0m\u001b[0mepochs\u001b[0m\u001b[1;33m)\u001b[0m\u001b[1;33m:\u001b[0m\u001b[1;33m\u001b[0m\u001b[1;33m\u001b[0m\u001b[0m\n\u001b[0;32m      5\u001b[0m     \u001b[1;32mfor\u001b[0m \u001b[0mname\u001b[0m \u001b[1;32min\u001b[0m \u001b[0mX_train\u001b[0m\u001b[1;33m.\u001b[0m\u001b[0mkeys\u001b[0m\u001b[1;33m(\u001b[0m\u001b[1;33m)\u001b[0m\u001b[1;33m:\u001b[0m\u001b[1;33m\u001b[0m\u001b[1;33m\u001b[0m\u001b[0m\n\u001b[1;32m----> 6\u001b[1;33m         \u001b[0mloss\u001b[0m \u001b[1;33m=\u001b[0m \u001b[0mtrain\u001b[0m\u001b[1;33m(\u001b[0m\u001b[0mX_train\u001b[0m\u001b[1;33m,\u001b[0m \u001b[0my_train\u001b[0m\u001b[1;33m,\u001b[0m \u001b[0mname\u001b[0m\u001b[1;33m)\u001b[0m\u001b[1;33m\u001b[0m\u001b[1;33m\u001b[0m\u001b[0m\n\u001b[0m\u001b[0;32m      7\u001b[0m         \u001b[0mtrain_losses\u001b[0m\u001b[1;33m.\u001b[0m\u001b[0mappend\u001b[0m\u001b[1;33m(\u001b[0m\u001b[0mloss\u001b[0m\u001b[1;33m)\u001b[0m\u001b[1;33m\u001b[0m\u001b[1;33m\u001b[0m\u001b[0m\n\u001b[0;32m      8\u001b[0m \u001b[1;33m\u001b[0m\u001b[0m\n",
      "\u001b[1;32m~\\AppData\\Local\\Temp/ipykernel_2316/464832316.py\u001b[0m in \u001b[0;36mtrain\u001b[1;34m(x_train, y_train, replay)\u001b[0m\n\u001b[0;32m     12\u001b[0m     \u001b[1;32mfor\u001b[0m \u001b[0mi\u001b[0m \u001b[1;32min\u001b[0m \u001b[0mtqdm\u001b[0m\u001b[1;33m(\u001b[0m\u001b[0mrange\u001b[0m\u001b[1;33m(\u001b[0m\u001b[0mreplay_in\u001b[0m\u001b[1;33m.\u001b[0m\u001b[0mshape\u001b[0m\u001b[1;33m[\u001b[0m\u001b[1;36m0\u001b[0m\u001b[1;33m]\u001b[0m\u001b[1;33m)\u001b[0m\u001b[1;33m)\u001b[0m\u001b[1;33m:\u001b[0m\u001b[1;33m\u001b[0m\u001b[1;33m\u001b[0m\u001b[0m\n\u001b[0;32m     13\u001b[0m \u001b[1;33m\u001b[0m\u001b[0m\n\u001b[1;32m---> 14\u001b[1;33m         \u001b[0moutput\u001b[0m\u001b[1;33m,\u001b[0m \u001b[0mhidden\u001b[0m \u001b[1;33m=\u001b[0m \u001b[0mmodel\u001b[0m\u001b[1;33m(\u001b[0m\u001b[0mt\u001b[0m\u001b[1;33m(\u001b[0m\u001b[1;33m[\u001b[0m\u001b[0mreplay_in\u001b[0m\u001b[1;33m[\u001b[0m\u001b[0mi\u001b[0m\u001b[1;33m]\u001b[0m\u001b[1;33m]\u001b[0m\u001b[1;33m)\u001b[0m\u001b[1;33m,\u001b[0m \u001b[0mhidden\u001b[0m\u001b[1;33m)\u001b[0m\u001b[1;33m\u001b[0m\u001b[1;33m\u001b[0m\u001b[0m\n\u001b[0m\u001b[0;32m     15\u001b[0m \u001b[1;33m\u001b[0m\u001b[0m\n\u001b[0;32m     16\u001b[0m         \u001b[0mloss\u001b[0m \u001b[1;33m=\u001b[0m \u001b[0mcriterion\u001b[0m\u001b[1;33m(\u001b[0m\u001b[0moutput\u001b[0m\u001b[1;33m,\u001b[0m \u001b[0mt\u001b[0m\u001b[1;33m(\u001b[0m\u001b[1;33m[\u001b[0m\u001b[0mreplay_out\u001b[0m\u001b[1;33m[\u001b[0m\u001b[0mi\u001b[0m\u001b[1;33m]\u001b[0m\u001b[1;33m]\u001b[0m\u001b[1;33m)\u001b[0m\u001b[1;33m)\u001b[0m\u001b[1;33m\u001b[0m\u001b[1;33m\u001b[0m\u001b[0m\n",
      "\u001b[1;32m~\\Anaconda3\\lib\\site-packages\\torch\\nn\\modules\\module.py\u001b[0m in \u001b[0;36m_call_impl\u001b[1;34m(self, *input, **kwargs)\u001b[0m\n\u001b[0;32m   1108\u001b[0m         if not (self._backward_hooks or self._forward_hooks or self._forward_pre_hooks or _global_backward_hooks\n\u001b[0;32m   1109\u001b[0m                 or _global_forward_hooks or _global_forward_pre_hooks):\n\u001b[1;32m-> 1110\u001b[1;33m             \u001b[1;32mreturn\u001b[0m \u001b[0mforward_call\u001b[0m\u001b[1;33m(\u001b[0m\u001b[1;33m*\u001b[0m\u001b[0minput\u001b[0m\u001b[1;33m,\u001b[0m \u001b[1;33m**\u001b[0m\u001b[0mkwargs\u001b[0m\u001b[1;33m)\u001b[0m\u001b[1;33m\u001b[0m\u001b[1;33m\u001b[0m\u001b[0m\n\u001b[0m\u001b[0;32m   1111\u001b[0m         \u001b[1;31m# Do not call functions when jit is used\u001b[0m\u001b[1;33m\u001b[0m\u001b[1;33m\u001b[0m\u001b[0m\n\u001b[0;32m   1112\u001b[0m         \u001b[0mfull_backward_hooks\u001b[0m\u001b[1;33m,\u001b[0m \u001b[0mnon_full_backward_hooks\u001b[0m \u001b[1;33m=\u001b[0m \u001b[1;33m[\u001b[0m\u001b[1;33m]\u001b[0m\u001b[1;33m,\u001b[0m \u001b[1;33m[\u001b[0m\u001b[1;33m]\u001b[0m\u001b[1;33m\u001b[0m\u001b[1;33m\u001b[0m\u001b[0m\n",
      "\u001b[1;32m~\\AppData\\Local\\Temp/ipykernel_2316/2166425056.py\u001b[0m in \u001b[0;36mforward\u001b[1;34m(self, input, hidden)\u001b[0m\n\u001b[0;32m      8\u001b[0m \u001b[1;33m\u001b[0m\u001b[0m\n\u001b[0;32m      9\u001b[0m     \u001b[1;32mdef\u001b[0m \u001b[0mforward\u001b[0m\u001b[1;33m(\u001b[0m\u001b[0mself\u001b[0m\u001b[1;33m,\u001b[0m \u001b[0minput\u001b[0m\u001b[1;33m,\u001b[0m \u001b[0mhidden\u001b[0m\u001b[1;33m)\u001b[0m\u001b[1;33m:\u001b[0m\u001b[1;33m\u001b[0m\u001b[1;33m\u001b[0m\u001b[0m\n\u001b[1;32m---> 10\u001b[1;33m         \u001b[0mcombined\u001b[0m \u001b[1;33m=\u001b[0m \u001b[0mtorch\u001b[0m\u001b[1;33m.\u001b[0m\u001b[0mcat\u001b[0m\u001b[1;33m(\u001b[0m\u001b[1;33m(\u001b[0m\u001b[0minput\u001b[0m\u001b[1;33m,\u001b[0m \u001b[0mhidden\u001b[0m\u001b[1;33m)\u001b[0m\u001b[1;33m,\u001b[0m \u001b[1;36m1\u001b[0m\u001b[1;33m)\u001b[0m\u001b[1;33m\u001b[0m\u001b[1;33m\u001b[0m\u001b[0m\n\u001b[0m\u001b[0;32m     11\u001b[0m         \u001b[0mhidden\u001b[0m \u001b[1;33m=\u001b[0m \u001b[0mself\u001b[0m\u001b[1;33m.\u001b[0m\u001b[0mi2h\u001b[0m\u001b[1;33m(\u001b[0m\u001b[0mcombined\u001b[0m\u001b[1;33m)\u001b[0m\u001b[1;33m\u001b[0m\u001b[1;33m\u001b[0m\u001b[0m\n\u001b[0;32m     12\u001b[0m         \u001b[0moutput\u001b[0m \u001b[1;33m=\u001b[0m \u001b[0mself\u001b[0m\u001b[1;33m.\u001b[0m\u001b[0mi2o\u001b[0m\u001b[1;33m(\u001b[0m\u001b[0mcombined\u001b[0m\u001b[1;33m)\u001b[0m\u001b[1;33m\u001b[0m\u001b[1;33m\u001b[0m\u001b[0m\n",
      "\u001b[1;32m~\\Anaconda3\\lib\\traceback.py\u001b[0m in \u001b[0;36mformat_stack\u001b[1;34m(f, limit)\u001b[0m\n\u001b[0;32m    191\u001b[0m \u001b[1;33m\u001b[0m\u001b[0m\n\u001b[0;32m    192\u001b[0m \u001b[1;33m\u001b[0m\u001b[0m\n\u001b[1;32m--> 193\u001b[1;33m \u001b[1;32mdef\u001b[0m \u001b[0mformat_stack\u001b[0m\u001b[1;33m(\u001b[0m\u001b[0mf\u001b[0m\u001b[1;33m=\u001b[0m\u001b[1;32mNone\u001b[0m\u001b[1;33m,\u001b[0m \u001b[0mlimit\u001b[0m\u001b[1;33m=\u001b[0m\u001b[1;32mNone\u001b[0m\u001b[1;33m)\u001b[0m\u001b[1;33m:\u001b[0m\u001b[1;33m\u001b[0m\u001b[1;33m\u001b[0m\u001b[0m\n\u001b[0m\u001b[0;32m    194\u001b[0m     \u001b[1;34m\"\"\"Shorthand for 'format_list(extract_stack(f, limit))'.\"\"\"\u001b[0m\u001b[1;33m\u001b[0m\u001b[1;33m\u001b[0m\u001b[0m\n\u001b[0;32m    195\u001b[0m     \u001b[1;32mif\u001b[0m \u001b[0mf\u001b[0m \u001b[1;32mis\u001b[0m \u001b[1;32mNone\u001b[0m\u001b[1;33m:\u001b[0m\u001b[1;33m\u001b[0m\u001b[1;33m\u001b[0m\u001b[0m\n",
      "\u001b[1;31mKeyboardInterrupt\u001b[0m: "
     ]
    }
   ],
   "source": [
    "X_train = datasets_seq[0]\n",
    "y_train = datasets_seq[2]\n",
    "\n",
    "for epoch in range(epochs):\n",
    "    for name in X_train.keys():\n",
    "        loss = train(X_train, y_train, name)\n",
    "        train_losses.append(loss)\n",
    "\n",
    "    print('epoch {}, train loss {}'.format(epoch, np.average(train_losses)))\n",
    "    print(' ')\n",
    "        "
   ]
  }
 ],
 "metadata": {
  "kernelspec": {
   "display_name": "Python 3 (ipykernel)",
   "language": "python",
   "name": "python3"
  },
  "language_info": {
   "codemirror_mode": {
    "name": "ipython",
    "version": 3
   },
   "file_extension": ".py",
   "mimetype": "text/x-python",
   "name": "python",
   "nbconvert_exporter": "python",
   "pygments_lexer": "ipython3",
   "version": "3.9.7"
  }
 },
 "nbformat": 4,
 "nbformat_minor": 5
}
