{
 "cells": [
  {
   "cell_type": "code",
   "execution_count": 1,
   "id": "39ce7cbc",
   "metadata": {},
   "outputs": [],
   "source": [
    "from slippi import Game\n",
    "from slippi.parse import parse\n",
    "from slippi.parse import ParseEvent\n",
    "import pandas as pd\n",
    "from os import listdir\n",
    "from os.path import isfile, join\n",
    "import tqdm\n",
    "import time\n",
    "from copy import deepcopy"
   ]
  },
  {
   "cell_type": "code",
   "execution_count": 2,
   "id": "719e60f5",
   "metadata": {},
   "outputs": [],
   "source": [
    "def parse_frame_at_port(game, frame, port):\n",
    "    return [game.frames[frame].ports[port].leader.pre, game.frames[frame].ports[port].leader.post]"
   ]
  },
  {
   "cell_type": "code",
   "execution_count": 3,
   "id": "57f2ae36",
   "metadata": {},
   "outputs": [],
   "source": [
    "def read_game(file_name):\n",
    "    try:\n",
    "        return Game(f'../Replays/{file_name}')\n",
    "    except:\n",
    "        print(f'Failed to parse {file_name}')"
   ]
  },
  {
   "cell_type": "code",
   "execution_count": 4,
   "id": "0fd32c52",
   "metadata": {},
   "outputs": [],
   "source": [
    "def add_replay(file_name, d, k):\n",
    "    game = read_game(file_name)\n",
    "    if game is None:\n",
    "            print(f'{file_name} is None')\n",
    "    else: \n",
    "        #get uses ports\n",
    "        pls = [i for i, p in enumerate(game.start.players) if not(p is None)]\n",
    "        player_info = game.start.players\n",
    "        char_1 = player_info[pls[0]].character.name\n",
    "        char_2 = player_info[pls[1]].character.name\n",
    "        head = [file_name, char_1, char_2]\n",
    "        #add each frame\n",
    "        for f in range(len(game.frames)):\n",
    "            d[k] = head + [f] + parse_frame_at_port(game, f, pls[0]) + parse_frame_at_port(game, f, pls[1])\n",
    "            k += 1\n",
    "    return d, k"
   ]
  },
  {
   "cell_type": "code",
   "execution_count": 5,
   "id": "f7d01345",
   "metadata": {},
   "outputs": [],
   "source": [
    "def replays_to_df(replay_names):\n",
    "    data = dict()\n",
    "    k = 0\n",
    "    for replay in replay_names:\n",
    "        data, k = add_replay(replay, data, k)\n",
    "    df = pd.DataFrame.from_dict(data, columns=['Game_ID','CHAR_P1', 'CHAR_P2','Frame', 'Pre_P1', 'Post_P1', 'Pre_P2', 'Post_P2'], orient='index')\n",
    "    return df"
   ]
  },
  {
   "cell_type": "code",
   "execution_count": 6,
   "id": "84eb3ab9",
   "metadata": {},
   "outputs": [],
   "source": [
    "def get_states(df):\n",
    "    for i in [1,2]:\n",
    "        post = df[f'Post_P{i}']\n",
    "        df[f'S_airborne_P{i}'] = post.apply(lambda x : x.airborne).values\n",
    "        df[f'S_damage_P{i}'] = post.apply(lambda x : x.damage).values\n",
    "        df[f'S_direction_P{i}'] = post.apply(lambda x : x.direction).values\n",
    "        df[f'S_hit_stun_P{i}'] = post.apply(lambda x : x.hit_stun).values\n",
    "        df[f'S_position_x_P{i}'] = post.apply(lambda x : x.position.x).values\n",
    "        df[f'S_position_y_P{i}'] = post.apply(lambda x : x.position.y).values\n",
    "        df[f'S_shield_P{i}'] = post.apply(lambda x : x.shield).values\n",
    "        df[f'S_state_P{i}'] = post.apply(lambda x : x.state).values\n",
    "        df[f'S_state_age_P{i}'] = post.apply(lambda x : x.state_age).values\n",
    "        df[f'S_stocks_P{i}'] = post.apply(lambda x : x.stocks).values\n",
    "    \n",
    "    df = df.drop(['Post_P1', 'Post_P2'], axis = 1)\n",
    "    return df"
   ]
  },
  {
   "cell_type": "code",
   "execution_count": 7,
   "id": "d15b24b2",
   "metadata": {},
   "outputs": [],
   "source": [
    "def get_buttons(df):\n",
    "    for i in [1,2]:\n",
    "        pre = df[f'Pre_P{i}']\n",
    "        df[f'B_damage_P{i}'] = pre.apply(lambda x : x.damage).values\n",
    "        df[f'B_direction_P{i}'] = pre.apply(lambda x : x.damage).values\n",
    "        df[f'B_joystick_x_P{i}'] = pre.apply(lambda x : x.joystick.x).values\n",
    "        df[f'B_joystick_y_P{i}'] = pre.apply(lambda x : x.joystick.y).values\n",
    "        df[f'B_position_x_P{i}'] = pre.apply(lambda x : x.position.x).values\n",
    "        df[f'B_position_y_P{i}'] = pre.apply(lambda x : x.position.y).values\n",
    "        df[f'B_cstick_x_P{i}'] = pre.apply(lambda x : x.cstick.x).values\n",
    "        df[f'B_cstick_y_P{i}'] = pre.apply(lambda x : x.cstick.y).values\n",
    "        df[f'B_state_P{i}'] = pre.apply(lambda x : x.state).values\n",
    "        df[f'B_raw_analog_P{i}'] = pre.apply(lambda x : x.raw_analog_x).values\n",
    "        df[f'B_buttons_physical_P{i}'] = pre.apply(lambda x : x.buttons.physical.value).values\n",
    "        df[f'B_buttons_physical_P{i}'] = pre.apply(lambda x : x.buttons.logical.value).values\n",
    "        df[f'B_triggers_physical_l_P{i}'] = pre.apply(lambda x : x.triggers.physical.l).values\n",
    "        df[f'B_triggers_physical_r_P{i}'] = pre.apply(lambda x : x.triggers.physical.r).values\n",
    "        df[f'B_triggers_logical_P{i}'] = pre.apply(lambda x : x.triggers.logical).values\n",
    "    \n",
    "    df = df.drop(['Pre_P1', 'Pre_P2'], axis = 1)\n",
    "    return df"
   ]
  },
  {
   "cell_type": "code",
   "execution_count": 23,
   "id": "cbb422f3",
   "metadata": {},
   "outputs": [],
   "source": [
    "def df_column_switch(df, column1, column2):\n",
    "    i = list(df.columns)\n",
    "    a, b = i.index(column1), i.index(column2)\n",
    "    i[b], i[a] = i[a], i[b]\n",
    "    df = df[i]\n",
    "    return df"
   ]
  },
  {
   "cell_type": "code",
   "execution_count": 27,
   "id": "5d7b67f7",
   "metadata": {},
   "outputs": [
    {
     "name": "stdout",
     "output_type": "stream",
     "text": [
      "Wall time: 13.6 s\n"
     ]
    }
   ],
   "source": [
    "%%time\n",
    "files = listdir('../Replays/')\n",
    "df = replays_to_df(files[0:5])"
   ]
  },
  {
   "cell_type": "code",
   "execution_count": 19,
   "id": "e6fe0867",
   "metadata": {},
   "outputs": [],
   "source": [
    "offset = 7"
   ]
  },
  {
   "cell_type": "code",
   "execution_count": 29,
   "id": "721bc580",
   "metadata": {},
   "outputs": [],
   "source": [
    "df = get_states(df)\n",
    "df = get_buttons(df)"
   ]
  },
  {
   "cell_type": "code",
   "execution_count": 46,
   "id": "12b3c7fa",
   "metadata": {},
   "outputs": [],
   "source": [
    "mapping = {'B_damage_P2': 'B_damage_P1',\n",
    " 'B_direction_P2': 'B_direction_P1',\n",
    " 'B_joystick_x_P2': 'B_joystick_x_P1',\n",
    " 'B_joystick_y_P2': 'B_joystick_y_P1',\n",
    " 'B_position_x_P2': 'B_position_x_P1',\n",
    " 'B_position_y_P2': 'B_position_y_P1',\n",
    " 'B_cstick_x_P2': 'B_cstick_x_P1',\n",
    " 'B_cstick_y_P2': 'B_cstick_y_P1',\n",
    " 'B_state_P2': 'B_state_P1',\n",
    " 'B_raw_analog_P2': 'B_raw_analog_P1',\n",
    " 'B_buttons_physical_P2': 'B_buttons_physical_P1',\n",
    " 'B_triggers_physical_l_P2': 'B_triggers_physical_l_P1',\n",
    " 'B_triggers_physical_r_P2': 'B_triggers_physical_r_P1',\n",
    " 'B_triggers_logical_P2': 'B_triggers_logical_P1'}"
   ]
  },
  {
   "cell_type": "code",
   "execution_count": 54,
   "id": "50b92938",
   "metadata": {},
   "outputs": [],
   "source": [
    "X_cols = ['Game_ID', 'CHAR_P1', 'CHAR_P2', 'Frame', 'S_airborne_P1',\n",
    "       'S_damage_P1', 'S_direction_P1', 'S_hit_stun_P1', 'S_position_x_P1',\n",
    "       'S_position_y_P1', 'S_shield_P1', 'S_state_P1', 'S_state_age_P1',\n",
    "       'S_stocks_P1', 'S_airborne_P2', 'S_damage_P2', 'S_direction_P2',\n",
    "       'S_hit_stun_P2', 'S_position_x_P2', 'S_position_y_P2', 'S_shield_P2',\n",
    "       'S_state_P2', 'S_state_age_P2', 'S_stocks_P2']\n",
    "\n",
    "x_cols_P1 = ['B_damage_P1',\n",
    "       'B_direction_P1', 'B_joystick_x_P1', 'B_joystick_y_P1',\n",
    "       'B_position_x_P1', 'B_position_y_P1', 'B_cstick_x_P1', 'B_cstick_y_P1',\n",
    "       'B_state_P1', 'B_raw_analog_P1', 'B_buttons_physical_P1',\n",
    "       'B_triggers_physical_l_P1', 'B_triggers_physical_r_P1',\n",
    "       'B_triggers_logical_P1']\n",
    "          \n",
    "x_cols_P2 =['B_damage_P2', 'B_direction_P2',\n",
    "       'B_joystick_x_P2', 'B_joystick_y_P2', 'B_position_x_P2',\n",
    "       'B_position_y_P2', 'B_cstick_x_P2', 'B_cstick_y_P2', 'B_state_P2',\n",
    "       'B_raw_analog_P2', 'B_buttons_physical_P2', 'B_triggers_physical_l_P2',\n",
    "       'B_triggers_physical_r_P2', 'B_triggers_logical_P2']\n",
    "\n",
    "y_cols = ['Game_ID','Frame', 'S_airborne_P1',\n",
    "       'S_damage_P1', 'S_direction_P1', 'S_hit_stun_P1', 'S_position_x_P1',\n",
    "       'S_position_y_P1', 'S_shield_P1', 'S_state_P1', 'S_state_age_P1',\n",
    "       'S_stocks_P1', 'S_airborne_P2', 'S_damage_P2', 'S_direction_P2',\n",
    "       'S_hit_stun_P2', 'S_position_x_P2', 'S_position_y_P2', 'S_shield_P2',\n",
    "       'S_state_P2', 'S_state_age_P2', 'S_stocks_P2']"
   ]
  },
  {
   "cell_type": "code",
   "execution_count": 55,
   "id": "947ce7b7",
   "metadata": {},
   "outputs": [
    {
     "name": "stderr",
     "output_type": "stream",
     "text": [
      "C:\\Users\\steph\\AppData\\Local\\Temp/ipykernel_16024/1848564158.py:2: SettingWithCopyWarning: \n",
      "A value is trying to be set on a copy of a slice from a DataFrame.\n",
      "Try using .loc[row_indexer,col_indexer] = value instead\n",
      "\n",
      "See the caveats in the documentation: https://pandas.pydata.org/pandas-docs/stable/user_guide/indexing.html#returning-a-view-versus-a-copy\n",
      "  df_y_target['Frame'] = df_X_target['Frame'].apply(lambda x : x - offset)\n"
     ]
    }
   ],
   "source": [
    "df_y_target = df[y_cols]\n",
    "df_y_target['Frame'] = df_X_target['Frame'].apply(lambda x : x - offset)"
   ]
  },
  {
   "cell_type": "code",
   "execution_count": 40,
   "id": "cfd11e26",
   "metadata": {},
   "outputs": [],
   "source": [
    "df_X_P1 = df[X_cols + x_cols_P1]\n",
    "df_X_P2 = df[X_cols + x_cols_P2]"
   ]
  },
  {
   "cell_type": "code",
   "execution_count": 41,
   "id": "dcf4ca11",
   "metadata": {},
   "outputs": [],
   "source": [
    "df_X_P2 = df_column_switch(df_X_P2, 'CHAR_P1', 'CHAR_P2')"
   ]
  },
  {
   "cell_type": "code",
   "execution_count": 45,
   "id": "a3d7ffd5",
   "metadata": {},
   "outputs": [
    {
     "data": {
      "text/plain": [
       "{'B_damage_P2': 'B_damage_P1',\n",
       " 'B_direction_P2': 'B_direction_P1',\n",
       " 'B_joystick_x_P2': 'B_joystick_x_P1',\n",
       " 'B_joystick_y_P2': 'B_joystick_y_P1',\n",
       " 'B_position_x_P2': 'B_position_x_P1',\n",
       " 'B_position_y_P2': 'B_position_y_P1',\n",
       " 'B_cstick_x_P2': 'B_cstick_x_P1',\n",
       " 'B_cstick_y_P2': 'B_cstick_y_P1',\n",
       " 'B_state_P2': 'B_state_P1',\n",
       " 'B_raw_analog_P2': 'B_raw_analog_P1',\n",
       " 'B_buttons_physical_P2': 'B_buttons_physical_P1',\n",
       " 'B_triggers_physical_l_P2': 'B_triggers_physical_l_P1',\n",
       " 'B_triggers_physical_r_P2': 'B_triggers_physical_r_P1',\n",
       " 'B_triggers_logical_P2': 'B_triggers_logical_P1'}"
      ]
     },
     "execution_count": 45,
     "metadata": {},
     "output_type": "execute_result"
    }
   ],
   "source": [
    "mapping = {}\n",
    "for c_name in y_cols_P2:\n",
    "    mapping[c_name] = c_name[:-1] + '1'\n",
    "mapping"
   ]
  },
  {
   "cell_type": "code",
   "execution_count": 52,
   "id": "f6df9b62",
   "metadata": {},
   "outputs": [],
   "source": [
    "df_X_P2.rename(columns=mapping, inplace=True)"
   ]
  },
  {
   "cell_type": "code",
   "execution_count": 56,
   "id": "ec1e75d3",
   "metadata": {},
   "outputs": [],
   "source": [
    "out1 = pd.merge(df_X_P1, df_y_target, on=['Game_ID', 'Frame'])\n",
    "out2 = pd.merge(df_X_P2, df_y_target, on=['Game_ID', 'Frame'])"
   ]
  },
  {
   "cell_type": "code",
   "execution_count": 57,
   "id": "00598fda",
   "metadata": {},
   "outputs": [],
   "source": [
    "out = pd.concat([out1,out2],ignore_index=True)"
   ]
  },
  {
   "cell_type": "code",
   "execution_count": 59,
   "id": "cf396df4",
   "metadata": {},
   "outputs": [
    {
     "data": {
      "text/plain": [
       "Index(['Game_ID', 'CHAR_P1', 'CHAR_P2', 'Frame', 'S_airborne_P1_x',\n",
       "       'S_damage_P1_x', 'S_direction_P1_x', 'S_hit_stun_P1_x',\n",
       "       'S_position_x_P1_x', 'S_position_y_P1_x', 'S_shield_P1_x',\n",
       "       'S_state_P1_x', 'S_state_age_P1_x', 'S_stocks_P1_x', 'S_airborne_P2_x',\n",
       "       'S_damage_P2_x', 'S_direction_P2_x', 'S_hit_stun_P2_x',\n",
       "       'S_position_x_P2_x', 'S_position_y_P2_x', 'S_shield_P2_x',\n",
       "       'S_state_P2_x', 'S_state_age_P2_x', 'S_stocks_P2_x', 'B_damage_P1',\n",
       "       'B_direction_P1', 'B_joystick_x_P1', 'B_joystick_y_P1',\n",
       "       'B_position_x_P1', 'B_position_y_P1', 'B_cstick_x_P1', 'B_cstick_y_P1',\n",
       "       'B_state_P1', 'B_raw_analog_P1', 'B_buttons_physical_P1',\n",
       "       'B_triggers_physical_l_P1', 'B_triggers_physical_r_P1',\n",
       "       'B_triggers_logical_P1', 'S_airborne_P1_y', 'S_damage_P1_y',\n",
       "       'S_direction_P1_y', 'S_hit_stun_P1_y', 'S_position_x_P1_y',\n",
       "       'S_position_y_P1_y', 'S_shield_P1_y', 'S_state_P1_y',\n",
       "       'S_state_age_P1_y', 'S_stocks_P1_y', 'S_airborne_P2_y', 'S_damage_P2_y',\n",
       "       'S_direction_P2_y', 'S_hit_stun_P2_y', 'S_position_x_P2_y',\n",
       "       'S_position_y_P2_y', 'S_shield_P2_y', 'S_state_P2_y',\n",
       "       'S_state_age_P2_y', 'S_stocks_P2_y'],\n",
       "      dtype='object')"
      ]
     },
     "execution_count": 59,
     "metadata": {},
     "output_type": "execute_result"
    }
   ],
   "source": [
    "out.columns"
   ]
  },
  {
   "cell_type": "code",
   "execution_count": null,
   "id": "fca93579",
   "metadata": {},
   "outputs": [],
   "source": [
    "\n",
    "#\n",
    "\n",
    "# df_X2 = df_column_switch(df_X, 'CHAR_P1', 'CHAR_P2')\n",
    "\n",
    "# df_y_P2.columns=['Game_ID','Frame','B_damage_P1',\n",
    "#        'B_direction_P1', 'B_joystick_x_P1', 'B_joystick_y_P1',\n",
    "#        'B_position_x_P1', 'B_position_y_P1', 'B_cstick_x_P1', 'B_cstick_y_P1',\n",
    "#        'B_state_P1', 'B_raw_analog_P1', 'B_buttons_physical_P1',\n",
    "#        'B_triggers_physical_l_P1', 'B_triggers_physical_r_P1',\n",
    "#        'B_triggers_logical_P1']\n",
    "\n",
    "# out2 = pd.merge(df_X2, df_y_P2, on=['Game_ID', 'Frame'])\n",
    "\n",
    "# out = pd.concat([out1,out2],ignore_index=True)"
   ]
  }
 ],
 "metadata": {
  "kernelspec": {
   "display_name": "Python 3 (ipykernel)",
   "language": "python",
   "name": "python3"
  },
  "language_info": {
   "codemirror_mode": {
    "name": "ipython",
    "version": 3
   },
   "file_extension": ".py",
   "mimetype": "text/x-python",
   "name": "python",
   "nbconvert_exporter": "python",
   "pygments_lexer": "ipython3",
   "version": "3.9.7"
  }
 },
 "nbformat": 4,
 "nbformat_minor": 5
}
