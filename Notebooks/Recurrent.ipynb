{
 "cells": [
  {
   "cell_type": "code",
   "execution_count": 1,
   "id": "6933b53c",
   "metadata": {},
   "outputs": [],
   "source": [
    "import torch\n",
    "import torch.nn as nn\n",
    "import torch.nn.functional as F\n",
    "import torch.nn \n",
    "from torch.utils.data import DataLoader, Dataset\n",
    "from sklearn.model_selection import train_test_split\n",
    "from sklearn.preprocessing import StandardScaler, OneHotEncoder, LabelEncoder\n",
    "from sklearn.feature_extraction.text import CountVectorizer\n",
    "import numpy as np\n",
    "import pandas as pd\n",
    "from tqdm import tqdm"
   ]
  },
  {
   "cell_type": "code",
   "execution_count": 2,
   "id": "2473f9d4",
   "metadata": {},
   "outputs": [],
   "source": [
    "df = pd.read_csv(\"../Data/single_dataset.csv\", low_memory=False)\n",
    "df.dropna(axis=0, how='any', inplace=True)\n",
    "\n",
    "#enc characters\n",
    "enc_p1 = LabelEncoder()\n",
    "enc_p2 = LabelEncoder()\n",
    "\n",
    "enc_p1.fit(df['CHAR_P1'])\n",
    "enc_p2.fit(df['CHAR_P2'])\n",
    "df['CHAR_P1'] = enc_p1.transform(df['CHAR_P1'])\n",
    "df['CHAR_P2'] = enc_p2.transform(df['CHAR_P2'])\n",
    "\n",
    "X_cols = ['CHAR_P1', 'CHAR_P2', 'S_airborne_P1',\n",
    "   'S_damage_P1', 'S_direction_P1', 'S_hit_stun_P1', 'S_position_x_P1',\n",
    "   'S_position_y_P1', 'S_shield_P1', 'S_state_P1', 'S_state_age_P1',\n",
    "   'S_stocks_P1', 'S_airborne_P2', 'S_damage_P2', 'S_direction_P2',\n",
    "   'S_hit_stun_P2', 'S_position_x_P2', 'S_position_y_P2', 'S_shield_P2',\n",
    "   'S_state_P2', 'S_state_age_P2', 'S_stocks_P2']\n",
    "\n",
    "y_cols = ['B_damage_P1',\n",
    "   'B_direction_P1', 'B_joystick_x_P1', 'B_joystick_y_P1',\n",
    "   'B_position_x_P1', 'B_position_y_P1', 'B_cstick_x_P1', 'B_cstick_y_P1',\n",
    "   'B_state_P1', 'B_raw_analog_P1', 'B_buttons_physical_P1',\n",
    "   'B_triggers_physical_l_P1', 'B_triggers_physical_r_P1',\n",
    "   'B_triggers_logical_P1']\n",
    "\n",
    "df['S_airborne_P1'] = df['S_airborne_P1'].astype(bool).astype(float)\n",
    "df['S_airborne_P2'] = df['S_airborne_P2'].astype(bool).astype(float)\n",
    "\n",
    "X = df[X_cols]\n",
    "y = df[y_cols]"
   ]
  },
  {
   "cell_type": "code",
   "execution_count": null,
   "id": "cca92532",
   "metadata": {},
   "outputs": [],
   "source": [
    "X_scaler = StandardScaler().fit(X_train)\n",
    "y_scaler = StandardScaler().fit(y_train)\n",
    "\n",
    "X_train = X_scaler.transform(X_train)\n",
    "X_test = X_scaler.transform(X_test)\n",
    "\n",
    "\n",
    "y_train = y_scaler.transform(y_train)\n",
    "y_test = y_scaler.transform(y_test)"
   ]
  },
  {
   "cell_type": "code",
   "execution_count": null,
   "id": "8c9e9842",
   "metadata": {},
   "outputs": [],
   "source": [
    "class FrameDataset(Dataset):\n",
    "    def __init__(self,X,y):\n",
    "        self.x_train=torch.tensor(X,dtype=torch.float32)\n",
    "        self.y_train=torch.tensor(y,dtype=torch.float32)\n",
    "        \n",
    "    def __len__(self):\n",
    "        return len(self.y_train)\n",
    "  \n",
    "    def __getitem__(self,idx):\n",
    "        return self.x_train[idx],self.y_train[idx]"
   ]
  },
  {
   "cell_type": "code",
   "execution_count": null,
   "id": "0615673b",
   "metadata": {},
   "outputs": [],
   "source": [
    "class RNNModel(nn.Module):\n",
    "    def __init__(self, input_dim, hidden_dim, layer_dim, output_dim, dropout_prob):\n",
    "        super(RNNModel, self).__init__()\n",
    "\n",
    "        # Defining the number of layers and the nodes in each layer\n",
    "        self.hidden_dim = hidden_dim\n",
    "        self.layer_dim = layer_dim\n",
    "\n",
    "        # RNN layers\n",
    "        self.rnn = nn.RNN(\n",
    "            input_dim, hidden_dim, layer_dim, batch_first=True, dropout=dropout_prob\n",
    "        )\n",
    "        # Fully connected layer\n",
    "        self.fc = nn.Linear(hidden_dim, output_dim)\n",
    "\n",
    "    def forward(self, x):\n",
    "        # Initializing hidden state for first input with zeros\n",
    "        h0 = torch.zeros(self.layer_dim, x.size(0), self.hidden_dim).requires_grad_()\n",
    "\n",
    "        # Forward propagation by passing in the input and hidden state into the model\n",
    "        out, h0 = self.rnn(x, h0.detach())\n",
    "\n",
    "        # Reshaping the outputs in the shape of (batch_size, seq_length, hidden_size)\n",
    "        # so that it can fit into the fully connected layer\n",
    "        out = out[:, -1, :]\n",
    "\n",
    "        # Convert the final state to our desired output shape (batch_size, output_dim)\n",
    "        out = self.fc(out)\n",
    "        return out"
   ]
  }
 ],
 "metadata": {
  "kernelspec": {
   "display_name": "Python 3 (ipykernel)",
   "language": "python",
   "name": "python3"
  },
  "language_info": {
   "codemirror_mode": {
    "name": "ipython",
    "version": 3
   },
   "file_extension": ".py",
   "mimetype": "text/x-python",
   "name": "python",
   "nbconvert_exporter": "python",
   "pygments_lexer": "ipython3",
   "version": "3.9.7"
  }
 },
 "nbformat": 4,
 "nbformat_minor": 5
}
