{
 "cells": [
  {
   "cell_type": "code",
   "execution_count": 6,
   "id": "cde83344",
   "metadata": {},
   "outputs": [],
   "source": [
    "import torch\n",
    "import torch.nn as nn\n",
    "import torch.nn.functional as F\n",
    "import torch.nn as nn\n",
    "from torch.utils.data import DataLoader, Dataset\n",
    "from sklearn.model_selection import train_test_split\n",
    "from sklearn.preprocessing import StandardScaler, OneHotEncoder, LabelEncoder\n",
    "from sklearn.feature_extraction.text import CountVectorizer\n",
    "import numpy as np\n",
    "import pandas as pd\n",
    "from tqdm import tqdm"
   ]
  },
  {
   "cell_type": "code",
   "execution_count": 58,
   "id": "9853dcdb",
   "metadata": {},
   "outputs": [],
   "source": [
    "def non_shuffling_train_test_split(X, y, test_size=0.2):\n",
    "    i = int((1 - test_size) * X.shape[0]) + 1\n",
    "    X_train, X_test = np.split(X, [i])\n",
    "    y_train, y_test = np.split(y, [i])\n",
    "    return X_train, X_test, y_train, y_test"
   ]
  },
  {
   "cell_type": "code",
   "execution_count": 76,
   "id": "6cb7ffd1",
   "metadata": {},
   "outputs": [],
   "source": [
    "def compress_rows(df_seq):\n",
    "    data = {}\n",
    "    for game in df_seq.index.unique():\n",
    "        data[game] = []\n",
    "    for game in tqdm(df_seq.index.unique()):\n",
    "        data[game].append(df_seq[df_seq.columns].loc[game].to_numpy())\n",
    "    return data"
   ]
  },
  {
   "cell_type": "code",
   "execution_count": 80,
   "id": "7f50ee0a",
   "metadata": {},
   "outputs": [],
   "source": [
    "df = pd.read_csv(\"../Data/single_dataset.csv\", low_memory=False)\n",
    "df.dropna(axis=0, how='any', inplace=True)\n",
    "\n",
    "#enc characters\n",
    "enc_p1 = LabelEncoder()\n",
    "enc_p2 = LabelEncoder()\n",
    "\n",
    "enc_p1.fit(df['CHAR_P1'])\n",
    "enc_p2.fit(df['CHAR_P2'])\n",
    "df['CHAR_P1'] = enc_p1.transform(df['CHAR_P1'])\n",
    "df['CHAR_P2'] = enc_p2.transform(df['CHAR_P2'])\n",
    "\n",
    "X_cols = ['CHAR_P1', 'CHAR_P2', 'S_airborne_P1',\n",
    "   'S_damage_P1', 'S_direction_P1', 'S_hit_stun_P1', 'S_position_x_P1',\n",
    "   'S_position_y_P1', 'S_shield_P1', 'S_state_P1', 'S_state_age_P1',\n",
    "   'S_stocks_P1', 'S_airborne_P2', 'S_damage_P2', 'S_direction_P2',\n",
    "   'S_hit_stun_P2', 'S_position_x_P2', 'S_position_y_P2', 'S_shield_P2',\n",
    "   'S_state_P2', 'S_state_age_P2', 'S_stocks_P2']\n",
    "\n",
    "y_cols = ['B_damage_P1',\n",
    "   'B_direction_P1', 'B_joystick_x_P1', 'B_joystick_y_P1',\n",
    "   'B_position_x_P1', 'B_position_y_P1', 'B_cstick_x_P1', 'B_cstick_y_P1',\n",
    "   'B_state_P1', 'B_raw_analog_P1', 'B_buttons_physical_P1',\n",
    "   'B_triggers_physical_l_P1', 'B_triggers_physical_r_P1',\n",
    "   'B_triggers_logical_P1']\n",
    "\n",
    "df['S_airborne_P1'] = df['S_airborne_P1'].astype(bool).astype(float)\n",
    "df['S_airborne_P2'] = df['S_airborne_P2'].astype(bool).astype(float)\n",
    "\n",
    "df_seq = df.set_index(df['Game_ID'])\n",
    "df_seq.drop('Game_ID', axis = 1, inplace=True)\n",
    "\n",
    "X = df_seq[X_cols]\n",
    "y = df_seq[y_cols]"
   ]
  },
  {
   "cell_type": "code",
   "execution_count": 81,
   "id": "ede3ac1b",
   "metadata": {},
   "outputs": [],
   "source": [
    "X_train, X_test, y_train, y_test = non_shuffling_train_test_split(X, y)"
   ]
  },
  {
   "cell_type": "code",
   "execution_count": 66,
   "id": "d5a74303",
   "metadata": {},
   "outputs": [],
   "source": [
    "X_scaler = StandardScaler().fit(X_train)\n",
    "y_scaler = StandardScaler().fit(y_train)\n",
    "\n",
    "X_train = X_scaler.transform(X_train)\n",
    "X_test = X_scaler.transform(X_test)\n",
    "\n",
    "\n",
    "y_train = y_scaler.transform(y_train)\n",
    "y_test = y_scaler.transform(y_test)"
   ]
  },
  {
   "cell_type": "code",
   "execution_count": 84,
   "id": "ccab8d99",
   "metadata": {},
   "outputs": [
    {
     "name": "stderr",
     "output_type": "stream",
     "text": [
      "100%|██████████| 9/9 [00:00<00:00, 68.01it/s]\n",
      "100%|██████████| 4/4 [00:00<00:00, 272.41it/s]\n",
      "100%|██████████| 9/9 [00:00<00:00, 94.71it/s]\n",
      "100%|██████████| 4/4 [00:00<00:00, 363.58it/s]\n"
     ]
    }
   ],
   "source": [
    "datasets = [X_train, X_test, y_train, y_test]\n",
    "\n",
    "datasets_seq = []\n",
    "\n",
    "for d in datasets:\n",
    "    datasets_seq.append(compress_rows(d))"
   ]
  },
  {
   "cell_type": "code",
   "execution_count": 87,
   "id": "235d9dc5",
   "metadata": {},
   "outputs": [],
   "source": [
    "class FrameDataset(Dataset):\n",
    "    def __init__(self,X,y):\n",
    "        self.x_train=torch.tensor(X,dtype=torch.float32)\n",
    "        self.y_train=torch.tensor(y,dtype=torch.float32)\n",
    "        \n",
    "    def __len__(self):\n",
    "        return len(self.y_train)\n",
    "  \n",
    "    def __getitem__(self,idx):\n",
    "        return self.x_train[idx],self.y_train[idx]"
   ]
  },
  {
   "cell_type": "code",
   "execution_count": 88,
   "id": "b2b61257",
   "metadata": {},
   "outputs": [],
   "source": [
    "class RNN(nn.Module):\n",
    "    def __init__(self, input_size, hidden_size, output_size):\n",
    "        super(RNN, self).__init__()\n",
    "        self.hidden_size = hidden_size\n",
    "        \n",
    "        self.i2h = nn.Linear(input_size + hidden_size, hidden_size)\n",
    "        self.i2o = nn.Linear(input_size + hidden_size, output_size)\n",
    "\n",
    "    def forward(self, input, hidden):\n",
    "        combined = torch.cat((input, hidden), 1)\n",
    "        hidden = self.i2h(combined)\n",
    "        output = self.i2o(combined)\n",
    "        output\n",
    "        return output, hidden\n",
    "\n",
    "    def initHidden(self):\n",
    "        return torch.zeros(1, self.hidden_size)"
   ]
  },
  {
   "cell_type": "code",
   "execution_count": 89,
   "id": "f328cb96",
   "metadata": {},
   "outputs": [
    {
     "ename": "SyntaxError",
     "evalue": "invalid syntax (Temp/ipykernel_2316/1346302020.py, line 7)",
     "output_type": "error",
     "traceback": [
      "\u001b[1;36m  File \u001b[1;32m\"C:\\Users\\steph\\AppData\\Local\\Temp/ipykernel_2316/1346302020.py\"\u001b[1;36m, line \u001b[1;32m7\u001b[0m\n\u001b[1;33m    model = RNN(, n_hidden, n_categories)\u001b[0m\n\u001b[1;37m                ^\u001b[0m\n\u001b[1;31mSyntaxError\u001b[0m\u001b[1;31m:\u001b[0m invalid syntax\n"
     ]
    }
   ],
   "source": [
    "input_size = dataset.x_train.shape[1]\n",
    "output_size = dataset.y_train.shape[1]\n",
    "hidden_size = 128\n",
    "\n",
    "epochs = 10\n",
    "\n",
    "model = RNN(input_size, n_hidden, n_categories)\n",
    "\n",
    "learning_rate = 0.1\n",
    "\n",
    "optimizer = torch.optim.Adam(model.parameters(), lr=learning_rate)  \n",
    "criterion = nn.MSELoss()"
   ]
  },
  {
   "cell_type": "code",
   "execution_count": null,
   "id": "7a5af4f4",
   "metadata": {},
   "outputs": [],
   "source": [
    "iter = 0\n",
    "for epoch in range(epochs):\n",
    "    train_losses = []\n",
    "    for i, (data, labels) in enumerate(train_loader):\n",
    "\n",
    "        optimizer.zero_grad()\n",
    "        \n",
    "        outputs = model(data)\n",
    "        loss = criterion(outputs, labels)\n",
    "        \n",
    "        loss.backward()\n",
    "        train_losses.append(loss.item())\n",
    "        \n",
    "        optimizer.step()\n",
    "      \n",
    "    test_losses = []\n",
    "    \n",
    "    for data, labels in test_loader:\n",
    "        outputs = model(data)\n",
    "        loss = criterion(outputs, labels)\n",
    "        test_losses.append(loss.item())\n",
    "        \n",
    "    print('epoch {}, train loss {}'.format(epoch, np.average(train_losses)))\n",
    "    print('epoch {}, test loss {}'.format(epoch, np.average(test_losses)))\n",
    "    print(' ')\n",
    "        "
   ]
  }
 ],
 "metadata": {
  "kernelspec": {
   "display_name": "Python 3 (ipykernel)",
   "language": "python",
   "name": "python3"
  },
  "language_info": {
   "codemirror_mode": {
    "name": "ipython",
    "version": 3
   },
   "file_extension": ".py",
   "mimetype": "text/x-python",
   "name": "python",
   "nbconvert_exporter": "python",
   "pygments_lexer": "ipython3",
   "version": "3.9.7"
  }
 },
 "nbformat": 4,
 "nbformat_minor": 5
}
