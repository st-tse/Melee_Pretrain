{
 "cells": [
  {
   "cell_type": "code",
   "execution_count": 8,
   "id": "30b41604",
   "metadata": {},
   "outputs": [],
   "source": [
    "import torch\n",
    "import numpy as np\n",
    "import pandas as pd\n",
    "from tqdm import tqdm"
   ]
  },
  {
   "cell_type": "code",
   "execution_count": 2,
   "id": "403d49b9",
   "metadata": {},
   "outputs": [],
   "source": [
    "df = pd.read_csv('../Data/replay_by_frame.csv')"
   ]
  },
  {
   "cell_type": "code",
   "execution_count": 3,
   "id": "93eb9b52",
   "metadata": {},
   "outputs": [],
   "source": [
    "#shouldn't be needed anymore\n",
    "df = df.drop('Unnamed: 0', axis=1)"
   ]
  },
  {
   "cell_type": "code",
   "execution_count": 4,
   "id": "e1a7c39b",
   "metadata": {},
   "outputs": [
    {
     "data": {
      "text/plain": [
       "Index(['Game_ID', 'CHAR', 'Port', 'Frame', 'Pre_frame', 'Post_frame',\n",
       "       'S_airborne', 'S_damage', 'S_direction', 'S_hit_stun', 'S_position_x',\n",
       "       'S_position_y', 'S_shield', 'S_state', 'S_state_age', 'S_stocks',\n",
       "       'B_damage', 'B_direction', 'B_joystick_x', 'B_joystick_y',\n",
       "       'B_position_x', 'B_position_y', 'B_cstick_x', 'B_cstick_y', 'B_state',\n",
       "       'B_raw_analog', 'B_buttons_physical', 'B_triggers_physical_l',\n",
       "       'B_triggers_physical_r', 'B_triggers_logical'],\n",
       "      dtype='object')"
      ]
     },
     "execution_count": 4,
     "metadata": {},
     "output_type": "execute_result"
    }
   ],
   "source": [
    "df.columns"
   ]
  },
  {
   "cell_type": "code",
   "execution_count": 5,
   "id": "576d4d43",
   "metadata": {},
   "outputs": [],
   "source": [
    "state_cols = ['CHAR','S_airborne', 'S_damage', 'S_direction', 'S_hit_stun', 'S_position_x',\n",
    "       'S_position_y', 'S_shield', 'S_state', 'S_state_age', 'S_stocks']"
   ]
  },
  {
   "cell_type": "code",
   "execution_count": 6,
   "id": "c7977928",
   "metadata": {},
   "outputs": [],
   "source": [
    "button_cols = ['Port','B_damage', 'B_direction', 'B_joystick_x', 'B_joystick_y',\n",
    "       'B_position_x', 'B_position_y', 'B_cstick_x', 'B_cstick_y', 'B_state']"
   ]
  },
  {
   "cell_type": "code",
   "execution_count": 7,
   "id": "9e1cb9ed",
   "metadata": {},
   "outputs": [],
   "source": [
    "def format_cols(input_cols, output_cols):\n",
    "    cols = []\n",
    "    for i in range(len(input_cols)):\n",
    "        cols.append(input_cols[i] + '_P1')\n",
    "        cols.append(input_cols[i] + '_P2')\n",
    "    \n",
    "    return ['GAME_ID', 'Frame'] + cols + output_cols"
   ]
  },
  {
   "cell_type": "code",
   "execution_count": 21,
   "id": "76226084",
   "metadata": {},
   "outputs": [
    {
     "data": {
      "text/plain": [
       "array([0, 2, 1, 3], dtype=int64)"
      ]
     },
     "execution_count": 21,
     "metadata": {},
     "output_type": "execute_result"
    }
   ],
   "source": [
    "df.Port.unique()"
   ]
  },
  {
   "cell_type": "code",
   "execution_count": null,
   "id": "adddc6b7",
   "metadata": {},
   "outputs": [],
   "source": []
  },
  {
   "cell_type": "code",
   "execution_count": 20,
   "id": "b35ddff7",
   "metadata": {},
   "outputs": [],
   "source": [
    "def format_labels(df, input_cols, output_cols, offset = 5):\n",
    "    df = df.drop(['Pre_frame', 'Post_frame'], axis = 1)"
   ]
  },
  {
   "cell_type": "code",
   "execution_count": 16,
   "id": "e076ca79",
   "metadata": {},
   "outputs": [],
   "source": [
    "#create labels\n",
    "\n",
    "#TODO rewrite with reindexing and a join, should be like 1000x faster IM DUMB\n",
    "#do in batches too maybe?\n",
    "def format_labels(df, input_cols, output_cols, offset = 5):\n",
    "    data = {}\n",
    "    k = 0\n",
    "    game_ids = df.Game_ID.unique()\n",
    "    for game in game_ids[:2]:\n",
    "        df_game = df[df.Game_ID == game]\n",
    "        ports = df_game.Port.unique()\n",
    "        p1 = ports[0]\n",
    "        p2 = ports[1]\n",
    "        for frame in tqdm(df_game.Frame.values):\n",
    "            #get states of both players, designate p1 and p2\n",
    "            try:\n",
    "                #get current frame\n",
    "                df_frame = df_game[df_game.Frame == frame]\n",
    "                #get frame to predict\n",
    "                df_offset = df_game[df_game.Frame == (frame + offset)]\n",
    "                #get data by player for both\n",
    "                df_f_p1 = df_frame[df_frame.Port == p1]\n",
    "                df_f_p2 = df_frame[df_frame.Port == p2]\n",
    "                df_o_p1 = df_offset[df_frame.Port == p1]\n",
    "                df_o_p2 = df_offset[df_frame.Port == p2]\n",
    "#                 row_1 = df_frame['GAME_ID', 'Frame'].iloc[0].values + df_f_p1[input_cols].values + df_f_p2[input_cols].values + df_o_p1[output_cols].values\n",
    "#                 row_2 = df_frame['GAME_ID', 'Frame'].iloc[0].values + df_f_p1[input_cols].values + df_f_p2[input_cols].values + df_o_p2[output_cols].values\n",
    "#                 #output columns for each player with player to predict\n",
    "#                 data[k] = row_1\n",
    "#                 k += 1\n",
    "#                 data[k] = row_2\n",
    "#                 k += 1\n",
    "            except:\n",
    "                #label not in dataset\n",
    "                pass\n",
    "    dataset = pd.DataFrame(data, columns = format_cols(input_cols, output_cols))\n",
    "    return dataset"
   ]
  },
  {
   "cell_type": "code",
   "execution_count": 17,
   "id": "9fff8297",
   "metadata": {},
   "outputs": [
    {
     "name": "stderr",
     "output_type": "stream",
     "text": [
      "  0%|          | 0/19058 [00:00<?, ?it/s]C:\\Users\\steph\\AppData\\Local\\Temp/ipykernel_9528/2293080144.py:24: UserWarning: Boolean Series key will be reindexed to match DataFrame index.\n",
      "  df_o_p1 = df_offset[df_frame.Port == p1]\n",
      " 50%|████▉     | 9496/19058 [00:24<00:23, 398.85it/s]C:\\Users\\steph\\AppData\\Local\\Temp/ipykernel_9528/2293080144.py:25: UserWarning: Boolean Series key will be reindexed to match DataFrame index.\n",
      "  df_o_p2 = df_offset[df_frame.Port == p2]\n",
      "100%|██████████| 19058/19058 [00:49<00:00, 384.52it/s]\n",
      "100%|██████████| 4830/4830 [00:12<00:00, 391.53it/s]\n"
     ]
    }
   ],
   "source": [
    "data = format_labels(df, state_cols, button_cols, 5)"
   ]
  },
  {
   "cell_type": "code",
   "execution_count": 19,
   "id": "742ff018",
   "metadata": {},
   "outputs": [
    {
     "data": {
      "text/html": [
       "<div>\n",
       "<style scoped>\n",
       "    .dataframe tbody tr th:only-of-type {\n",
       "        vertical-align: middle;\n",
       "    }\n",
       "\n",
       "    .dataframe tbody tr th {\n",
       "        vertical-align: top;\n",
       "    }\n",
       "\n",
       "    .dataframe thead th {\n",
       "        text-align: right;\n",
       "    }\n",
       "</style>\n",
       "<table border=\"1\" class=\"dataframe\">\n",
       "  <thead>\n",
       "    <tr style=\"text-align: right;\">\n",
       "      <th></th>\n",
       "      <th>GAME_ID</th>\n",
       "      <th>Frame</th>\n",
       "      <th>CHAR_P1</th>\n",
       "      <th>CHAR_P2</th>\n",
       "      <th>S_airborne_P1</th>\n",
       "      <th>S_airborne_P2</th>\n",
       "      <th>S_damage_P1</th>\n",
       "      <th>S_damage_P2</th>\n",
       "      <th>S_direction_P1</th>\n",
       "      <th>S_direction_P2</th>\n",
       "      <th>...</th>\n",
       "      <th>Port</th>\n",
       "      <th>B_damage</th>\n",
       "      <th>B_direction</th>\n",
       "      <th>B_joystick_x</th>\n",
       "      <th>B_joystick_y</th>\n",
       "      <th>B_position_x</th>\n",
       "      <th>B_position_y</th>\n",
       "      <th>B_cstick_x</th>\n",
       "      <th>B_cstick_y</th>\n",
       "      <th>B_state</th>\n",
       "    </tr>\n",
       "  </thead>\n",
       "  <tbody>\n",
       "  </tbody>\n",
       "</table>\n",
       "<p>0 rows × 34 columns</p>\n",
       "</div>"
      ],
      "text/plain": [
       "Empty DataFrame\n",
       "Columns: [GAME_ID, Frame, CHAR_P1, CHAR_P2, S_airborne_P1, S_airborne_P2, S_damage_P1, S_damage_P2, S_direction_P1, S_direction_P2, S_hit_stun_P1, S_hit_stun_P2, S_position_x_P1, S_position_x_P2, S_position_y_P1, S_position_y_P2, S_shield_P1, S_shield_P2, S_state_P1, S_state_P2, S_state_age_P1, S_state_age_P2, S_stocks_P1, S_stocks_P2, Port, B_damage, B_direction, B_joystick_x, B_joystick_y, B_position_x, B_position_y, B_cstick_x, B_cstick_y, B_state]\n",
       "Index: []\n",
       "\n",
       "[0 rows x 34 columns]"
      ]
     },
     "execution_count": 19,
     "metadata": {},
     "output_type": "execute_result"
    }
   ],
   "source": [
    "data"
   ]
  }
 ],
 "metadata": {
  "kernelspec": {
   "display_name": "Python 3 (ipykernel)",
   "language": "python",
   "name": "python3"
  },
  "language_info": {
   "codemirror_mode": {
    "name": "ipython",
    "version": 3
   },
   "file_extension": ".py",
   "mimetype": "text/x-python",
   "name": "python",
   "nbconvert_exporter": "python",
   "pygments_lexer": "ipython3",
   "version": "3.9.7"
  }
 },
 "nbformat": 4,
 "nbformat_minor": 5
}
